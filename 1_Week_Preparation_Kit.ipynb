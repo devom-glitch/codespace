{
  "nbformat": 4,
  "nbformat_minor": 0,
  "metadata": {
    "colab": {
      "name": "1 Week Preparation Kit.ipynb",
      "provenance": [],
      "authorship_tag": "ABX9TyORas6imqoyRuw26KKChHWr",
      "include_colab_link": true
    },
    "kernelspec": {
      "name": "python3",
      "display_name": "Python 3"
    },
    "language_info": {
      "name": "python"
    }
  },
  "cells": [
    {
      "cell_type": "markdown",
      "metadata": {
        "id": "view-in-github",
        "colab_type": "text"
      },
      "source": [
        "<a href=\"https://colab.research.google.com/github/tpriyanshukrishnan/codespace/blob/main/1_Week_Preparation_Kit.ipynb\" target=\"_parent\"><img src=\"https://colab.research.google.com/assets/colab-badge.svg\" alt=\"Open In Colab\"/></a>"
      ]
    },
    {
      "cell_type": "markdown",
      "source": [
        "# Taking 3 Pill of coding problem a day, makes developer destroy bugs !!."
      ],
      "metadata": {
        "id": "afP5Qa9h-KdF"
      }
    },
    {
      "cell_type": "markdown",
      "source": [
        "# Plus Minus"
      ],
      "metadata": {
        "id": "c5ouWpqf6bQ3"
      }
    },
    {
      "cell_type": "code",
      "source": [
        "#!/bin/python3\n",
        "\n",
        "import math\n",
        "import os\n",
        "import random\n",
        "import re\n",
        "import sys\n",
        "\n",
        "def plusMinus(arr):\n",
        "    n = len(arr)\n",
        "    c = [0, 0, 0]\n",
        "    for i in arr:\n",
        "        if i == 0:\n",
        "            c[-1] += 1\n",
        "        elif i > 0:\n",
        "            c[0] += 1\n",
        "        else:\n",
        "            c[1] += 1\n",
        "    for j in c:\n",
        "        print('%.6f'%(j/n))\n",
        "        \n",
        "\n",
        "if __name__ == '__main__':\n",
        "    n = int(input().strip())\n",
        "\n",
        "    arr = list(map(int, input().rstrip().split()))\n",
        "\n",
        "    plusMinus(arr)\n"
      ],
      "metadata": {
        "id": "NgV0QChO6aZ_"
      },
      "execution_count": null,
      "outputs": []
    },
    {
      "cell_type": "code",
      "execution_count": null,
      "metadata": {
        "id": "fc1t5zYf3KWQ"
      },
      "outputs": [],
      "source": [
        ""
      ]
    }
  ]
}