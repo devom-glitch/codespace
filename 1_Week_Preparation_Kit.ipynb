{
  "nbformat": 4,
  "nbformat_minor": 0,
  "metadata": {
    "colab": {
      "name": "1 Week Preparation Kit.ipynb",
      "provenance": [],
      "authorship_tag": "ABX9TyNz5BXleM7NxXGbpYMAcNiT",
      "include_colab_link": true
    },
    "kernelspec": {
      "name": "python3",
      "display_name": "Python 3"
    },
    "language_info": {
      "name": "python"
    }
  },
  "cells": [
    {
      "cell_type": "markdown",
      "metadata": {
        "id": "view-in-github",
        "colab_type": "text"
      },
      "source": [
        "<a href=\"https://colab.research.google.com/github/tpriyanshukrishnan/codespace/blob/main/1_Week_Preparation_Kit.ipynb\" target=\"_parent\"><img src=\"https://colab.research.google.com/assets/colab-badge.svg\" alt=\"Open In Colab\"/></a>"
      ]
    },
    {
      "cell_type": "markdown",
      "source": [
        "# Taking 3 Pill of coding problem a day, makes developer destroy bugs !!."
      ],
      "metadata": {
        "id": "afP5Qa9h-KdF"
      }
    },
    {
      "cell_type": "markdown",
      "source": [
        "# Plus Minus"
      ],
      "metadata": {
        "id": "c5ouWpqf6bQ3"
      }
    },
    {
      "cell_type": "code",
      "source": [
        "#!/bin/python3\n",
        "\n",
        "import math\n",
        "import os\n",
        "import random\n",
        "import re\n",
        "import sys\n",
        "\n",
        "def plusMinus(arr):\n",
        "    n = len(arr)\n",
        "    c = [0, 0, 0]\n",
        "    for i in arr:\n",
        "        if i == 0:\n",
        "            c[-1] += 1\n",
        "        elif i > 0:\n",
        "            c[0] += 1\n",
        "        else:\n",
        "            c[1] += 1\n",
        "    for j in c:\n",
        "        print('%.6f'%(j/n))\n",
        "        \n",
        "\n",
        "if __name__ == '__main__':\n",
        "    n = int(input().strip())\n",
        "\n",
        "    arr = list(map(int, input().rstrip().split()))\n",
        "\n",
        "    plusMinus(arr)\n"
      ],
      "metadata": {
        "id": "NgV0QChO6aZ_"
      },
      "execution_count": null,
      "outputs": []
    },
    {
      "cell_type": "markdown",
      "source": [
        "# Time Conversion"
      ],
      "metadata": {
        "id": "h87Hlks-RPj_"
      }
    },
    {
      "cell_type": "code",
      "execution_count": null,
      "metadata": {
        "id": "fc1t5zYf3KWQ"
      },
      "outputs": [],
      "source": [
        "def timeConversion(s):\n",
        "    h = int(s[:2])\n",
        "    if s[-2:] == 'AM':\n",
        "        h = h % 12 \n",
        "    else:\n",
        "        h = h % 12 + 12 \n",
        "    return f\"{h:02}{s[2:8]}\"\n",
        "            "
      ]
    },
    {
      "cell_type": "markdown",
      "source": [
        "# Mini Max"
      ],
      "metadata": {
        "id": "1lRhLUB_RWdq"
      }
    },
    {
      "cell_type": "code",
      "source": [
        "def miniMaxSum(arr):\n",
        "    # Write your code here\n",
        "    glb_mx = sum(arr)\n",
        "    loc_min = min(arr)\n",
        "    loc_max = max(arr)\n",
        "    print(glb_mx-loc_max, glb_mx - loc_min)"
      ],
      "metadata": {
        "id": "6IfHUVl1RfrG"
      },
      "execution_count": null,
      "outputs": []
    },
    {
      "cell_type": "markdown",
      "source": [
        "# Lonely Integer"
      ],
      "metadata": {
        "id": "a13Y9SUaWzyN"
      }
    },
    {
      "cell_type": "code",
      "source": [
        "def lonelyinteger(a):\n",
        "    unique = []\n",
        "    for i in a:\n",
        "        if i not in unique:\n",
        "            unique.append(i)\n",
        "        else:\n",
        "            unique.remove(i)\n",
        "    return unique[0]"
      ],
      "metadata": {
        "id": "0dE0LaGVW3_H"
      },
      "execution_count": null,
      "outputs": []
    },
    {
      "cell_type": "markdown",
      "source": [
        "# Diagonal Difference"
      ],
      "metadata": {
        "id": "2kAg3Rvp8m2r"
      }
    },
    {
      "cell_type": "code",
      "source": [
        "def diagonalDifference(arr):\n",
        "    lr = 0 \n",
        "    rl = 0 \n",
        "    wd = len(arr[0]) - 1\n",
        "    for i in range(len(arr)):\n",
        "        lr += arr[i][i]\n",
        "        rl += arr[i][wd - i]\n",
        "    return abs(lr - rl) "
      ],
      "metadata": {
        "id": "kiPyUzFh8pZv"
      },
      "execution_count": null,
      "outputs": []
    }
  ]
}