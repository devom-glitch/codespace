{
  "nbformat": 4,
  "nbformat_minor": 0,
  "metadata": {
    "colab": {
      "name": "1 Week Preparation Kit.ipynb",
      "provenance": [],
      "authorship_tag": "ABX9TyN/QVQ/rz/XOjl3zISum2qc",
      "include_colab_link": true
    },
    "kernelspec": {
      "name": "python3",
      "display_name": "Python 3"
    },
    "language_info": {
      "name": "python"
    }
  },
  "cells": [
    {
      "cell_type": "markdown",
      "metadata": {
        "id": "view-in-github",
        "colab_type": "text"
      },
      "source": [
        "<a href=\"https://colab.research.google.com/github/tpriyanshukrishnan/codespace/blob/main/1_Week_Preparation_Kit.ipynb\" target=\"_parent\"><img src=\"https://colab.research.google.com/assets/colab-badge.svg\" alt=\"Open In Colab\"/></a>"
      ]
    },
    {
      "cell_type": "markdown",
      "source": [
        "# 🧘 Taking 3 Pill of coding problem a day, makes developer avenge bugs !!."
      ],
      "metadata": {
        "id": "afP5Qa9h-KdF"
      }
    },
    {
      "cell_type": "markdown",
      "source": [
        "# Plus Minus"
      ],
      "metadata": {
        "id": "c5ouWpqf6bQ3"
      }
    },
    {
      "cell_type": "code",
      "source": [
        "def plusMinus(arr):\n",
        "    n = len(arr)\n",
        "    c = [0, 0, 0]\n",
        "    for i in arr:\n",
        "        if i == 0:\n",
        "            c[-1] += 1\n",
        "        elif i > 0:\n",
        "            c[0] += 1\n",
        "        else:\n",
        "            c[1] += 1\n",
        "    for j in c:\n",
        "        print('%.6f'%(j/n))"
      ],
      "metadata": {
        "id": "NgV0QChO6aZ_"
      },
      "execution_count": null,
      "outputs": []
    },
    {
      "cell_type": "markdown",
      "source": [
        "# Time Conversion"
      ],
      "metadata": {
        "id": "h87Hlks-RPj_"
      }
    },
    {
      "cell_type": "code",
      "execution_count": null,
      "metadata": {
        "id": "fc1t5zYf3KWQ"
      },
      "outputs": [],
      "source": [
        "def timeConversion(s):\n",
        "    h = int(s[:2])\n",
        "    if s[-2:] == 'AM':\n",
        "        h = h % 12 \n",
        "    else:\n",
        "        h = h % 12 + 12 \n",
        "    return f\"{h:02}{s[2:8]}\"\n",
        "            "
      ]
    },
    {
      "cell_type": "markdown",
      "source": [
        "# Mini Max"
      ],
      "metadata": {
        "id": "1lRhLUB_RWdq"
      }
    },
    {
      "cell_type": "code",
      "source": [
        "def miniMaxSum(arr):\n",
        "    glb_mx = sum(arr)\n",
        "    loc_min = min(arr)\n",
        "    loc_max = max(arr)\n",
        "    print(glb_mx-loc_max, glb_mx - loc_min)"
      ],
      "metadata": {
        "id": "6IfHUVl1RfrG"
      },
      "execution_count": null,
      "outputs": []
    },
    {
      "cell_type": "markdown",
      "source": [
        "# Lonely Integer"
      ],
      "metadata": {
        "id": "a13Y9SUaWzyN"
      }
    },
    {
      "cell_type": "code",
      "source": [
        "def lonelyinteger(a):\n",
        "    unique = []\n",
        "    for i in a:\n",
        "        if i not in unique:\n",
        "            unique.append(i)\n",
        "        else:\n",
        "            unique.remove(i)\n",
        "    return unique[0]"
      ],
      "metadata": {
        "id": "0dE0LaGVW3_H"
      },
      "execution_count": null,
      "outputs": []
    },
    {
      "cell_type": "markdown",
      "source": [
        "# Diagonal Difference"
      ],
      "metadata": {
        "id": "2kAg3Rvp8m2r"
      }
    },
    {
      "cell_type": "code",
      "source": [
        "def diagonalDifference(arr):\n",
        "    lr = 0 \n",
        "    rl = 0 \n",
        "    wd = len(arr[0]) - 1\n",
        "    for i in range(len(arr)):\n",
        "        lr += arr[i][i]\n",
        "        rl += arr[i][wd - i]\n",
        "    return abs(lr - rl) "
      ],
      "metadata": {
        "id": "kiPyUzFh8pZv"
      },
      "execution_count": null,
      "outputs": []
    },
    {
      "cell_type": "markdown",
      "source": [
        "# Counting Sort"
      ],
      "metadata": {
        "id": "qYT87j8v_fiV"
      }
    },
    {
      "cell_type": "code",
      "source": [
        "def countingSort(arr):\n",
        "    freq = [0 for i in range(100)]\n",
        "    for ele in arr:\n",
        "        freq[ele] += 1\n",
        "    return freq"
      ],
      "metadata": {
        "id": "M8SMF5MS_fCf"
      },
      "execution_count": null,
      "outputs": []
    },
    {
      "cell_type": "markdown",
      "source": [
        "# Ceaser Cipher"
      ],
      "metadata": {
        "id": "JOW6aq4XSDX7"
      }
    },
    {
      "cell_type": "code",
      "source": [
        "def caesarCipher(s, k):\n",
        "    # 65 - 90 A_Z | 97 - 122 a_z\n",
        "    k = k % 26\n",
        "    se = ''\n",
        "    for i in s:\n",
        "        if i.isupper():\n",
        "            if ord(i) + k <= 90:\n",
        "                se += chr(ord(i) + k)\n",
        "            else:\n",
        "                se += chr((ord(i) + k) - 26)\n",
        "        \n",
        "        elif i.islower():\n",
        "            if ord(i) + k <= 122:\n",
        "                se += chr(ord(i) + k)\n",
        "            else:\n",
        "                se += chr((ord(i) + k) - 26)    \n",
        "        else:\n",
        "            se += i  \n",
        "    return se"
      ],
      "metadata": {
        "id": "pS4IuRrnSGTo"
      },
      "execution_count": null,
      "outputs": []
    },
    {
      "cell_type": "markdown",
      "source": [
        "# Zig Zag Sequence"
      ],
      "metadata": {
        "id": "03_a9Gb3SLRG"
      }
    },
    {
      "cell_type": "code",
      "source": [
        "def findZigZagSequence(a, n):\n",
        "    a.sort()\n",
        "    mid = int((n + 1)/2) - 1\n",
        "    a[mid], a[n-1] = a[n-1], a[mid]\n",
        "\n",
        "    st = mid + 1\n",
        "    ed = n - 1 - 1\n",
        "    while(st <= ed):\n",
        "        a[st], a[ed] = a[ed], a[st]\n",
        "        st = st + 1\n",
        "        ed = ed - 1\n",
        "\n",
        "    for i in range (n):\n",
        "        if i == n-1:\n",
        "            print(a[i])\n",
        "        else:\n",
        "            print(a[i], end = ' ')\n",
        "    return"
      ],
      "metadata": {
        "id": "JtqAi9sYSOXr"
      },
      "execution_count": null,
      "outputs": []
    },
    {
      "cell_type": "markdown",
      "source": [
        "# Tower Breaker (Analyze Pattern)"
      ],
      "metadata": {
        "id": "YpRZcoGySZNf"
      }
    },
    {
      "cell_type": "code",
      "source": [
        "def towerBreakers(n, m):\n",
        "    if m == 1:\n",
        "        return 2 \n",
        "    else:\n",
        "        if n % 2 == 1:\n",
        "            return 1\n",
        "        else:\n",
        "            return 2 "
      ],
      "metadata": {
        "id": "4VstGv5_SO4E"
      },
      "execution_count": null,
      "outputs": []
    },
    {
      "cell_type": "code",
      "source": [
        ""
      ],
      "metadata": {
        "id": "scUeEW24SWop"
      },
      "execution_count": null,
      "outputs": []
    }
  ]
}