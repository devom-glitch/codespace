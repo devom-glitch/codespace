{
  "nbformat": 4,
  "nbformat_minor": 0,
  "metadata": {
    "colab": {
      "name": "Dynamic-Programming.ipynb",
      "provenance": [],
      "authorship_tag": "ABX9TyMr8he7g9UgPtk94aU/QyyU",
      "include_colab_link": true
    },
    "kernelspec": {
      "name": "python3",
      "display_name": "Python 3"
    },
    "language_info": {
      "name": "python"
    }
  },
  "cells": [
    {
      "cell_type": "markdown",
      "metadata": {
        "id": "view-in-github",
        "colab_type": "text"
      },
      "source": [
        "<a href=\"https://colab.research.google.com/github/tpriyanshukrishnan/codespace/blob/main/Dynamic_Programming.ipynb\" target=\"_parent\"><img src=\"https://colab.research.google.com/assets/colab-badge.svg\" alt=\"Open In Colab\"/></a>"
      ]
    },
    {
      "cell_type": "code",
      "source": [
        "import math"
      ],
      "metadata": {
        "id": "_m4PftriCtvG"
      },
      "execution_count": 1,
      "outputs": []
    },
    {
      "cell_type": "markdown",
      "source": [
        "### Rod Cutting problem or resourse utilzation problem [one time usage only allowed]\n",
        "Let us assume you have x length size rod with differnt prices for (x-i) length here [i<=x]. \n",
        "\n",
        "lets discuss the approach for one time resource max utilization problem.\n",
        "think we have different price for different length, we need to find wht the\n",
        "max value we can get out of this resoure. \n",
        "we will find wht expected value we can get at particular length obosely greater than 0 and less than total length.\n",
        "to get max at particular length, we need to rely on previous data of max price at one length back. so we can see its overlappying problem. \n",
        "overlappying problem can be easily solved using memoization [in-memory]\n",
        "to extract current max price we can get at particular length, we can compare the previous max value at each step + curr_price of length"
      ],
      "metadata": {
        "id": "Gm_VyVuiyclU"
      }
    },
    {
      "cell_type": "code",
      "execution_count": null,
      "metadata": {
        "id": "K-d4Amagp9Fa"
      },
      "outputs": [],
      "source": [
        "import math \n",
        "def get_max_price(rod_price_list):\n",
        "  total_length = len(rod_price_list)\n",
        "  max_obtain_at_length = [0 for x in range(total_length+1)]\n",
        "  max_obtain_at_length[0] = 0\n",
        "  for curr_len in range(1,total_length+1):\n",
        "    print(\"curr_len\",\":\",curr_len)\n",
        "    max_at_curr_len=-math.inf\n",
        "    for iter_len in range(curr_len):\n",
        "      print(\"  \",\"iter_len :\",iter_len)\n",
        "      print(\"  \",\"rod_price_list[\",iter_len,\"]=\",rod_price_list[iter_len])\n",
        "      print(\"  \",\"max_obtain_at_length[\",(curr_len-iter_len-1),\"]=\",max_obtain_at_length[curr_len-iter_len-1])\n",
        "      max_at_curr_len = max(max_at_curr_len,rod_price_list[iter_len]+max_obtain_at_length[curr_len-iter_len-1])\n",
        "      print(\"    \",\"max_at_curr_len\",\":\",max_at_curr_len)\n",
        "    max_obtain_at_length[curr_len] = max_at_curr_len\n",
        "    print(\"max_obtain_at_lentgth[\",curr_len,\"]=\",max_obtain_at_length[curr_len])\n",
        "  return max_obtain_at_length\n",
        "\n",
        "rod_price_for_differnet_length = [4, 8, 16, 1, 9, 6, 10, 12, 3, 4]\n",
        "max_valuation = get_max_price(rod_price_for_differnet_length)\n",
        "print(max_valuation)"
      ]
    },
    {
      "cell_type": "markdown",
      "source": [
        "# Max Non Adjacent Sum "
      ],
      "metadata": {
        "id": "9a9l1AV8PrWj"
      }
    },
    {
      "cell_type": "code",
      "source": [
        "def max_non_adj_sum(ls):\n",
        "  inc=[ls[0]]\n",
        "  exc=[0]\n",
        "  for i in range(1,len(ls)):\n",
        "    inc.append(ls[i] + exc[i-1])\n",
        "    exc.append(max(inc[i-1],exc[i-1]))\n",
        "  return max(max(inc),max(exc))\n",
        "\n",
        "list=[1, 5, 3, 7, 2, 2, 6]\n",
        "max_non_adj_sum(list)"
      ],
      "metadata": {
        "id": "Y46FH42AqT8X",
        "colab": {
          "base_uri": "https://localhost:8080/"
        },
        "outputId": "2a79f966-137d-4b53-bb74-8de3f43ba10f"
      },
      "execution_count": null,
      "outputs": [
        {
          "output_type": "execute_result",
          "data": {
            "text/plain": [
              "18"
            ]
          },
          "metadata": {},
          "execution_count": 8
        }
      ]
    },
    {
      "cell_type": "markdown",
      "source": [
        "# Climb Stairs with variable jumps"
      ],
      "metadata": {
        "id": "AEJBcQMrfP0w"
      }
    },
    {
      "cell_type": "code",
      "source": [
        "def countpath(n,memo):\n",
        "  if n==0: return 1\n",
        "  elif n<0: return 0\n",
        "  if memo[n] > 0: return memo[n]\n",
        "  n1 = countpath(n-1,memo)\n",
        "  n2 = countpath(n-2,memo)\n",
        "  n3 = countpath(n-3,memo)\n",
        "  cp = n1 + n2 + n3\n",
        "  memo[n] = cp\n",
        "  return cp \n",
        "n = 10\n",
        "memo=[0 for i in range(n+1)]\n",
        "print(countpath(n,memo))\n",
        "  "
      ],
      "metadata": {
        "colab": {
          "base_uri": "https://localhost:8080/"
        },
        "id": "5h4xTdytfOwv",
        "outputId": "ebe48a84-0278-4e09-b4f4-0435fa24e137"
      },
      "execution_count": null,
      "outputs": [
        {
          "output_type": "stream",
          "name": "stdout",
          "text": [
            "274\n"
          ]
        }
      ]
    },
    {
      "cell_type": "markdown",
      "source": [
        "# Climb Stairs with variable jumps"
      ],
      "metadata": {
        "id": "aPYjwHwCkjem"
      }
    },
    {
      "cell_type": "code",
      "source": [
        "def countpath_var(n,var_jumps):\n",
        "  dp = [0 for i in range(n+1)]\n",
        "  dp[n] = 1\n",
        "  for i in range(n-1,-1,-1):\n",
        "    for j in range(1,var_jumps[i]+1):\n",
        "      if i + j <= n:\n",
        "        dp[i] += dp[i+j]\n",
        "  return dp\n",
        "n=6\n",
        "var_jumps = [2,3,0,2,2,3]\n",
        "print(countpath_var(n,var_jumps))"
      ],
      "metadata": {
        "colab": {
          "base_uri": "https://localhost:8080/"
        },
        "id": "DkQMidAOjLT1",
        "outputId": "c5956f51-6d2c-4685-f01b-928b26d4c244"
      },
      "execution_count": null,
      "outputs": [
        {
          "output_type": "stream",
          "name": "stdout",
          "text": [
            "[5, 5, 0, 3, 2, 1, 1]\n"
          ]
        }
      ]
    },
    {
      "cell_type": "markdown",
      "source": [
        "# Climb Stairs with minimum move"
      ],
      "metadata": {
        "id": "Xv2Jg8Jca-Qt"
      }
    },
    {
      "cell_type": "code",
      "source": [
        "def countpath_min(n, jumps):\n",
        "  dp = [None for i in range(n+1)]\n",
        "  dp[n] = 0 \n",
        "  for i in range(n-1,-1,-1):\n",
        "    loc_min = math.inf\n",
        "    for j in range(1, jumps[i] + 1):\n",
        "      if i+j <= n and dp[i+j] != None:\n",
        "        loc_min = min(loc_min,dp[i+j])\n",
        "    if loc_min != math.inf:\n",
        "      dp[i] = loc_min + 1\n",
        "  return dp\n",
        "\n",
        "\n",
        "n = 6\n",
        "jumps = [2,3,1,2,2,3]\n",
        "print(countpath_min(n,jumps))\n"
      ],
      "metadata": {
        "id": "bQ1VVfBeoW4F",
        "colab": {
          "base_uri": "https://localhost:8080/"
        },
        "outputId": "dbccb8bd-3e30-4119-a18f-333c876bf6c9"
      },
      "execution_count": 4,
      "outputs": [
        {
          "output_type": "stream",
          "name": "stdout",
          "text": [
            "[3, 2, 3, 2, 1, 1, 0]\n"
          ]
        }
      ]
    },
    {
      "cell_type": "markdown",
      "source": [
        "# Minimum Cost Path"
      ],
      "metadata": {
        "id": "vMPROlmEEhhc"
      }
    },
    {
      "cell_type": "code",
      "source": [
        "def min_cost_path(ln, wd, costmark):\n",
        "  dp = [[None for w in range(wd)] for l in range(ln)]\n",
        "  for i in range(ln-1,-1,-1):\n",
        "    for j in range(wd-1,-1,-1):\n",
        "      if i == ln-1 and j == wd-1:\n",
        "        dp[i][j] = costmark[i][j]\n",
        "      elif i == ln - 1:\n",
        "        dp[i][j] = dp[i][j+1] + costmark[i][j]\n",
        "      elif j == wd - 1:\n",
        "        dp[i][j] = dp[i+1][j] + costmark[i][j]\n",
        "      else:\n",
        "        dp[i][j] = min(dp[i+1][j], dp[i][j+1]) + costmark[i][j]\n",
        "  return dp\n",
        "\n",
        "length=3\n",
        "width=3\n",
        "costmark = [\n",
        "            [2, 10, 4],\n",
        "            [6, 9, 1],\n",
        "            [5, 2, 8]\n",
        "]\n",
        "min_cost_path(length, width, costmark)"
      ],
      "metadata": {
        "colab": {
          "base_uri": "https://localhost:8080/"
        },
        "id": "_mlTNtIeEFD5",
        "outputId": "fb07ca14-41be-480a-cfda-91111ec65077"
      },
      "execution_count": 9,
      "outputs": [
        {
          "output_type": "execute_result",
          "data": {
            "text/plain": [
              "[[23, 23, 13], [21, 18, 9], [15, 10, 8]]"
            ]
          },
          "metadata": {},
          "execution_count": 9
        }
      ]
    },
    {
      "cell_type": "markdown",
      "source": [
        "# Path with maximum gold"
      ],
      "metadata": {
        "id": "QddkMaa1R5Pj"
      }
    },
    {
      "cell_type": "code",
      "source": [
        "def max_gold(ln,wd,goldmine):\n",
        "    dp = [[None for w in range(wd)] for l in range(ln)]\n",
        "    for j in range(wd-1,-1,-1):\n",
        "      for i in range(ln-1,-1,-1):\n",
        "        if j == wd - 1:\n",
        "          dp[i][j] = goldmine[i][j]\n",
        "        elif i == 0 :\n",
        "          dp[i][j] = max(dp[i][j+1],dp[i+1][j+1]) + goldmine[i][j]\n",
        "        elif i == ln-1:\n",
        "          dp[i][j] = max(dp[i][j+1],dp[i-1][j+1]) + goldmine[i][j]\n",
        "        else:\n",
        "          dp[i][j] = max(dp[i-1][j+1],dp[i][j+1],dp[i+1][j+1]) + goldmine[i][j]\n",
        "    return dp \n",
        "\n",
        "length = 3\n",
        "width = 3\n",
        "goldmine = [\n",
        "  [2, 8, 2],\n",
        "  [5, 0, 4],\n",
        "  [1, 4, 6],            \n",
        "]\n",
        "max_gold(length,width,goldmine)"
      ],
      "metadata": {
        "colab": {
          "base_uri": "https://localhost:8080/"
        },
        "id": "PzeYeF7AEe0f",
        "outputId": "474dd3ef-0fd8-435f-c1f6-883df75c954e"
      },
      "execution_count": 12,
      "outputs": [
        {
          "output_type": "execute_result",
          "data": {
            "text/plain": [
              "[[14, 12, 2], [17, 6, 4], [11, 10, 6]]"
            ]
          },
          "metadata": {},
          "execution_count": 12
        }
      ]
    },
    {
      "cell_type": "markdown",
      "source": [
        "# Target Sum Subsets"
      ],
      "metadata": {
        "id": "hqTQERoUpYjS"
      }
    },
    {
      "cell_type": "code",
      "source": [
        "from typing import no_type_check\n",
        "def tar_subsum(n,arr,sm):\n",
        "  dp = [[ None for j in range(sm)] for i in range(n)]\n",
        "  for i in range(n):\n",
        "    for j in range(sm):\n",
        "      if i == 0 and j == 0:\n",
        "        dp[i][j] = True\n",
        "      elif i == 0:\n",
        "        dp[i][j] = False\n",
        "      elif j ==0:\n",
        "        dp[i][j] = True\n",
        "      else:\n",
        "        # when current number don't participate formation \n",
        "        if dp[i-1][j] == True:\n",
        "          dp[i][j] = True\n",
        "        # when current number participate in sum formation \n",
        "        else:\n",
        "          val = arr[i-1]\n",
        "          if val <= j:\n",
        "            if dp[i-1][j-val] == True:\n",
        "              dp[i][j] = True\n",
        "  return dp\n",
        "\n",
        "n=5\n",
        "sm = 6 \n",
        "arr = [5, 2, 4, 1, 3]\n",
        "tar_subsum(n,arr,sm)"
      ],
      "metadata": {
        "colab": {
          "base_uri": "https://localhost:8080/"
        },
        "id": "AQGEbeWens1C",
        "outputId": "02f770e2-d018-4e67-a39f-2793a06bc506"
      },
      "execution_count": 20,
      "outputs": [
        {
          "output_type": "execute_result",
          "data": {
            "text/plain": [
              "[[True, False, False, False, False, False],\n",
              " [True, None, None, None, None, True],\n",
              " [True, None, True, None, None, True],\n",
              " [True, None, True, None, True, True],\n",
              " [True, True, True, True, True, True]]"
            ]
          },
          "metadata": {},
          "execution_count": 20
        }
      ]
    },
    {
      "cell_type": "markdown",
      "source": [
        "#Coin Change Combination "
      ],
      "metadata": {
        "id": "xW4e4FibAd9l"
      }
    },
    {
      "cell_type": "code",
      "source": [
        "def coinchg_comb(n,coin,sm):\n",
        "  dp = [0 for i in range(sm+1)]\n",
        "  dp[0] = 1\n",
        "  for i in coin:\n",
        "    for j in range(i,sm+1):\n",
        "      dp[j] += dp[j-i]\n",
        "    print(dp)\n",
        "\n",
        "\n",
        "n = 3\n",
        "arr = [2, 3, 5]\n",
        "sm = 7 \n",
        "coinchg_comb(n,arr,sm)"
      ],
      "metadata": {
        "colab": {
          "base_uri": "https://localhost:8080/"
        },
        "id": "Bdl-ExDa0ddn",
        "outputId": "a6e00a90-2f87-4dba-f269-82e974291921"
      },
      "execution_count": 24,
      "outputs": [
        {
          "output_type": "stream",
          "name": "stdout",
          "text": [
            "[1, 0, 1, 0, 1, 0, 1, 0]\n",
            "[1, 0, 1, 1, 1, 1, 2, 1]\n",
            "[1, 0, 1, 1, 1, 2, 2, 2]\n"
          ]
        }
      ]
    },
    {
      "cell_type": "markdown",
      "source": [
        "# Coin Change Permutation "
      ],
      "metadata": {
        "id": "obMs3VeBF8LX"
      }
    },
    {
      "cell_type": "code",
      "source": [
        "def coinchg_perm(n,coins,sm):\n",
        "  dp = [0 for i in range(sm+1)]\n",
        "  dp[0] = 1\n",
        "  for i in range(1,sm+1):\n",
        "    for coin in coins:\n",
        "      if coin <= i:\n",
        "        dp[i] += dp[i-coin]\n",
        "    print(dp)\n",
        "\n",
        "n = 3\n",
        "arr = [2, 3, 5]\n",
        "sm = 7 \n",
        "coinchg_perm(n,arr,sm)\n",
        "\n"
      ],
      "metadata": {
        "colab": {
          "base_uri": "https://localhost:8080/"
        },
        "id": "vEITnyqdBu1l",
        "outputId": "ffcb382a-a924-4793-e53e-a1f96afc2787"
      },
      "execution_count": 25,
      "outputs": [
        {
          "output_type": "stream",
          "name": "stdout",
          "text": [
            "[1, 0, 0, 0, 0, 0, 0, 0]\n",
            "[1, 0, 1, 0, 0, 0, 0, 0]\n",
            "[1, 0, 1, 1, 0, 0, 0, 0]\n",
            "[1, 0, 1, 1, 1, 0, 0, 0]\n",
            "[1, 0, 1, 1, 1, 3, 0, 0]\n",
            "[1, 0, 1, 1, 1, 3, 2, 0]\n",
            "[1, 0, 1, 1, 1, 3, 2, 5]\n"
          ]
        }
      ]
    },
    {
      "cell_type": "markdown",
      "source": [
        "# 0-1 Knapsack "
      ],
      "metadata": {
        "id": "i1p93wwsQR0l"
      }
    },
    {
      "cell_type": "code",
      "source": [
        "def knapsack(n, cost, wg, tot_wg):\n",
        "  dp = [[0 for j in range(tot_wg+1)] for i in range(n+1)]\n",
        "  for i in range(1,n+1):\n",
        "    for j in range(1,tot_wg+1):\n",
        "      if i == 0 or j==0:\n",
        "        dp[i][j] = 0\n",
        "      else:\n",
        "        dp[i][j] = dp[i-1][j]\n",
        "        if j >= wg[i-1]:\n",
        "          dp[i][j] = max(dp[i-1][j],cost[i-1] + dp[i-1][j-wg[i-1]])\n",
        "\n",
        "  print(dp)\n",
        "\n",
        "n = 5\n",
        "cost = [15,14,10,45,30]\n",
        "wg = [2,5,1,3,4]\n",
        "tot_wg = 7\n",
        "knapsack(n,cost,wg,tot_wg)"
      ],
      "metadata": {
        "colab": {
          "base_uri": "https://localhost:8080/"
        },
        "id": "Ul8jdmjJOnEg",
        "outputId": "d7e5e6ed-e8ae-4f95-bcae-1f57613c72a4"
      },
      "execution_count": 38,
      "outputs": [
        {
          "output_type": "stream",
          "name": "stdout",
          "text": [
            "[[0, 0, 0, 0, 0, 0, 0, 0], [0, 0, 15, 15, 15, 15, 15, 15], [0, 0, 15, 15, 15, 15, 15, 29], [0, 10, 15, 25, 25, 25, 25, 29], [0, 10, 15, 45, 55, 60, 70, 70], [0, 10, 15, 45, 55, 60, 70, 75]]\n"
          ]
        }
      ]
    },
    {
      "cell_type": "markdown",
      "source": [
        "# Unbounded Knapsack"
      ],
      "metadata": {
        "id": "pQ-WQhHwpyL_"
      }
    },
    {
      "cell_type": "code",
      "source": [
        "def unknapsack(n, cost, wg, tot_wg):\n",
        "  dp = [0 for j in range(tot_wg+1)]\n",
        "  for j in range(1,tot_wg+1):\n",
        "    mx = 0\n",
        "    for i in range(n):\n",
        "      if j >= wg[i]:\n",
        "        mx = max(mx, cost[i] + dp[j-wg[i]])\n",
        "    dp[j] = mx\n",
        "  return dp\n",
        "\n",
        "n = 5\n",
        "cost = [15,14,10,45,30]\n",
        "wg = [2,5,1,3,4]\n",
        "tot_wg = 7\n",
        "unknapsack(n,cost,wg,tot_wg)"
      ],
      "metadata": {
        "colab": {
          "base_uri": "https://localhost:8080/"
        },
        "id": "XpNI6Bivcm-g",
        "outputId": "b983805d-95ca-4046-8787-cc68749a74c9"
      },
      "execution_count": 42,
      "outputs": [
        {
          "output_type": "execute_result",
          "data": {
            "text/plain": [
              "[0, 10, 20, 45, 55, 65, 90, 100]"
            ]
          },
          "metadata": {},
          "execution_count": 42
        }
      ]
    },
    {
      "cell_type": "markdown",
      "source": [
        "# Binary String [Not two consecutive zeros allowes]"
      ],
      "metadata": {
        "id": "q15W5e6jwD6U"
      }
    },
    {
      "cell_type": "code",
      "source": [
        "def bistr(n):\n",
        "  dp0 = [0 for i in range(n)]\n",
        "  dp1 = [0 for i in range(n)]\n",
        "  dp0[1] = 1\n",
        "  dp1[1] = 1\n",
        "  for i in range(2,n):\n",
        "    dp0[i] = dp1[i-1]\n",
        "    dp1[i] = dp0[i-1] + dp1[i-1]\n",
        "  return dp0,dp1\n",
        "\n",
        "n = 6 \n",
        "a, b = bistr(n)\n",
        "print(a[-1] + b[-1])"
      ],
      "metadata": {
        "colab": {
          "base_uri": "https://localhost:8080/"
        },
        "id": "WEvIGZpsslMx",
        "outputId": "88c32982-fa33-452d-aeac-ddd03fa2ac62"
      },
      "execution_count": 47,
      "outputs": [
        {
          "output_type": "stream",
          "name": "stdout",
          "text": [
            "13\n"
          ]
        }
      ]
    },
    {
      "cell_type": "code",
      "source": [
        ""
      ],
      "metadata": {
        "id": "0HTQx3jOw5_I"
      },
      "execution_count": null,
      "outputs": []
    }
  ]
}