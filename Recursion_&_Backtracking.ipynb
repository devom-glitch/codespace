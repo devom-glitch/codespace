{
  "nbformat": 4,
  "nbformat_minor": 0,
  "metadata": {
    "colab": {
      "name": "Recursion & Backtracking.ipynb",
      "provenance": [],
      "authorship_tag": "ABX9TyMZGhFf+WFqOXzqKpz8leyc",
      "include_colab_link": true
    },
    "kernelspec": {
      "name": "python3",
      "display_name": "Python 3"
    },
    "language_info": {
      "name": "python"
    }
  },
  "cells": [
    {
      "cell_type": "markdown",
      "metadata": {
        "id": "view-in-github",
        "colab_type": "text"
      },
      "source": [
        "<a href=\"https://colab.research.google.com/github/tpriyanshukrishnan/codespace/blob/main/Recursion_%26_Backtracking.ipynb\" target=\"_parent\"><img src=\"https://colab.research.google.com/assets/colab-badge.svg\" alt=\"Open In Colab\"/></a>"
      ]
    },
    {
      "cell_type": "markdown",
      "source": [
        "# 🪐 Welcome to World Of Programming Inceptions : Recursion \n",
        "\n",
        "## High Level Thinking\n",
        "\n",
        "\n",
        "*   Set **Expectation**. \n",
        "*   Built **Faith**.\n",
        "*   Link **Expectation & Faith** together.\n",
        "\n",
        "## Low Level Thinking\n",
        "\n",
        "*   Do **Dry Run**.\n",
        "*   Trace **Stack** for base case."
      ],
      "metadata": {
        "id": "2pYFfNUjM1T6"
      }
    },
    {
      "cell_type": "markdown",
      "source": [
        "# Print Decreasing Order "
      ],
      "metadata": {
        "id": "mq4jrdKCPTnC"
      }
    },
    {
      "cell_type": "code",
      "source": [
        "def pdo(n):\n",
        "  if n == 0:\n",
        "    return # Please Stop, Now you may go into hell [RecursionError: maximum recursion depth exceeded]\n",
        "  print(n)\n",
        "  pdo(n-1)\n",
        "pdo(5)"
      ],
      "metadata": {
        "colab": {
          "base_uri": "https://localhost:8080/"
        },
        "id": "Lx7Wn8eMPS0v",
        "outputId": "1353852a-f29d-4226-ccaa-194df8afd4b2"
      },
      "execution_count": 2,
      "outputs": [
        {
          "output_type": "stream",
          "name": "stdout",
          "text": [
            "5\n",
            "4\n",
            "3\n",
            "2\n",
            "1\n"
          ]
        }
      ]
    },
    {
      "cell_type": "markdown",
      "source": [
        "# Print Increasing Order"
      ],
      "metadata": {
        "id": "Rrf_ommyQ8rb"
      }
    },
    {
      "cell_type": "code",
      "source": [
        "def pio(n):\n",
        "  if n == 0:\n",
        "    return \n",
        "  pio(n-1)\n",
        "  print(n)\n",
        "  \n",
        "pio(5)"
      ],
      "metadata": {
        "id": "75Ze0uNtIoBP",
        "colab": {
          "base_uri": "https://localhost:8080/"
        },
        "outputId": "9a325468-66b2-4044-9842-d09a18c59400"
      },
      "execution_count": 4,
      "outputs": [
        {
          "output_type": "stream",
          "name": "stdout",
          "text": [
            "1\n",
            "2\n",
            "3\n",
            "4\n",
            "5\n"
          ]
        }
      ]
    },
    {
      "cell_type": "markdown",
      "source": [
        "# Print Decreasing & Increasing Order\n"
      ],
      "metadata": {
        "id": "N3tX7JzHTWQN"
      }
    },
    {
      "cell_type": "code",
      "source": [
        "def pdio(n):\n",
        "  if n == 0:\n",
        "    return \n",
        "  print(n)\n",
        "  pdio(n-1)\n",
        "  print(n)\n",
        "pdio(5)"
      ],
      "metadata": {
        "colab": {
          "base_uri": "https://localhost:8080/"
        },
        "id": "-BT1-UYKNKOa",
        "outputId": "dcaa5090-6fc8-4437-d381-d7315b4177b2"
      },
      "execution_count": 6,
      "outputs": [
        {
          "output_type": "stream",
          "name": "stdout",
          "text": [
            "5\n",
            "4\n",
            "3\n",
            "2\n",
            "1\n",
            "1\n",
            "2\n",
            "3\n",
            "4\n",
            "5\n"
          ]
        }
      ]
    },
    {
      "cell_type": "markdown",
      "source": [
        "# Factorial "
      ],
      "metadata": {
        "id": "ugffxhxiT3q9"
      }
    },
    {
      "cell_type": "code",
      "source": [
        "def fact(n):\n",
        "  if n == 1:\n",
        "    return 1\n",
        "  return n*fact(n-1)\n",
        "fact(5)"
      ],
      "metadata": {
        "colab": {
          "base_uri": "https://localhost:8080/"
        },
        "id": "OIZW934gTnNB",
        "outputId": "6bca2577-39f7-4bf7-cdbd-ff55b185f930"
      },
      "execution_count": 7,
      "outputs": [
        {
          "output_type": "execute_result",
          "data": {
            "text/plain": [
              "120"
            ]
          },
          "metadata": {},
          "execution_count": 7
        }
      ]
    },
    {
      "cell_type": "markdown",
      "source": [
        "# Power (Linear)"
      ],
      "metadata": {
        "id": "lKorwNquU9-V"
      }
    },
    {
      "cell_type": "code",
      "source": [
        "def power(x,n):\n",
        "  if n == 0:\n",
        "    return 1\n",
        "  return x*power(x,n-1)\n",
        "power(2,3)"
      ],
      "metadata": {
        "colab": {
          "base_uri": "https://localhost:8080/"
        },
        "id": "W1nkrn2PUK1E",
        "outputId": "be86eaa7-70f3-41cd-91ee-b4155372fc2d"
      },
      "execution_count": 8,
      "outputs": [
        {
          "output_type": "execute_result",
          "data": {
            "text/plain": [
              "8"
            ]
          },
          "metadata": {},
          "execution_count": 8
        }
      ]
    },
    {
      "cell_type": "markdown",
      "source": [
        "#Power (Log)"
      ],
      "metadata": {
        "id": "mJOXSnEgWqyf"
      }
    },
    {
      "cell_type": "code",
      "source": [
        "def powlog(x,n):\n",
        "  if n == 0:\n",
        "    return 1\n",
        "  loc_pow = powlog(x, int(n/2))\n",
        "  loc_pow *= loc_pow\n",
        "  if n%2 != 0:\n",
        "    loc_pow = loc_pow * x\n",
        "  return loc_pow\n",
        "powlog(2,3)"
      ],
      "metadata": {
        "colab": {
          "base_uri": "https://localhost:8080/"
        },
        "id": "rHjsY9skVVmo",
        "outputId": "c58dd069-9e7c-48ef-b77a-1c29345220f7"
      },
      "execution_count": 15,
      "outputs": [
        {
          "output_type": "execute_result",
          "data": {
            "text/plain": [
              "8"
            ]
          },
          "metadata": {},
          "execution_count": 15
        }
      ]
    },
    {
      "cell_type": "code",
      "source": [
        ""
      ],
      "metadata": {
        "id": "3dkos-BIXLaa"
      },
      "execution_count": null,
      "outputs": []
    }
  ]
}