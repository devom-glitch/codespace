{
  "nbformat": 4,
  "nbformat_minor": 0,
  "metadata": {
    "colab": {
      "name": "Recursion & Backtracking.ipynb",
      "provenance": [],
      "authorship_tag": "ABX9TyPEV6pRp2gyOOf19jUPM087",
      "include_colab_link": true
    },
    "kernelspec": {
      "name": "python3",
      "display_name": "Python 3"
    },
    "language_info": {
      "name": "python"
    }
  },
  "cells": [
    {
      "cell_type": "markdown",
      "metadata": {
        "id": "view-in-github",
        "colab_type": "text"
      },
      "source": [
        "<a href=\"https://colab.research.google.com/github/tpriyanshukrishnan/codespace/blob/main/Recursion_%26_Backtracking.ipynb\" target=\"_parent\"><img src=\"https://colab.research.google.com/assets/colab-badge.svg\" alt=\"Open In Colab\"/></a>"
      ]
    },
    {
      "cell_type": "markdown",
      "source": [
        "# 🪐 Welcome to World Of Programming Inceptions : Recursion \n",
        "\n",
        "## High Level Thinking\n",
        "\n",
        "\n",
        "*   Set **Expectation**. \n",
        "*   Built **Faith**.\n",
        "*   Link **Expectation & Faith** together.\n",
        "\n",
        "## Low Level Thinking\n",
        "\n",
        "*   Do **Dry Run**.\n",
        "*   Trace **Stack** for base case."
      ],
      "metadata": {
        "id": "2pYFfNUjM1T6"
      }
    },
    {
      "cell_type": "markdown",
      "source": [
        "# Print Decreasing Order "
      ],
      "metadata": {
        "id": "mq4jrdKCPTnC"
      }
    },
    {
      "cell_type": "code",
      "source": [
        "def pdo(n):\n",
        "  if n == 0:\n",
        "    return # Please Stop, Now you may go into hell [RecursionError: maximum recursion depth exceeded]\n",
        "  print(n)\n",
        "  pdo(n-1)\n",
        "pdo(5)"
      ],
      "metadata": {
        "colab": {
          "base_uri": "https://localhost:8080/"
        },
        "id": "Lx7Wn8eMPS0v",
        "outputId": "1353852a-f29d-4226-ccaa-194df8afd4b2"
      },
      "execution_count": null,
      "outputs": [
        {
          "output_type": "stream",
          "name": "stdout",
          "text": [
            "5\n",
            "4\n",
            "3\n",
            "2\n",
            "1\n"
          ]
        }
      ]
    },
    {
      "cell_type": "markdown",
      "source": [
        "# Print Increasing Order"
      ],
      "metadata": {
        "id": "Rrf_ommyQ8rb"
      }
    },
    {
      "cell_type": "code",
      "source": [
        "def pio(n):\n",
        "  if n == 0:\n",
        "    return \n",
        "  pio(n-1)\n",
        "  print(n)\n",
        "  \n",
        "pio(5)"
      ],
      "metadata": {
        "id": "75Ze0uNtIoBP",
        "colab": {
          "base_uri": "https://localhost:8080/"
        },
        "outputId": "9a325468-66b2-4044-9842-d09a18c59400"
      },
      "execution_count": null,
      "outputs": [
        {
          "output_type": "stream",
          "name": "stdout",
          "text": [
            "1\n",
            "2\n",
            "3\n",
            "4\n",
            "5\n"
          ]
        }
      ]
    },
    {
      "cell_type": "markdown",
      "source": [
        "# Print Decreasing & Increasing Order\n"
      ],
      "metadata": {
        "id": "N3tX7JzHTWQN"
      }
    },
    {
      "cell_type": "code",
      "source": [
        "def pdio(n):\n",
        "  if n == 0:\n",
        "    return \n",
        "  print(n)\n",
        "  pdio(n-1)\n",
        "  print(n)\n",
        "pdio(5)"
      ],
      "metadata": {
        "colab": {
          "base_uri": "https://localhost:8080/"
        },
        "id": "-BT1-UYKNKOa",
        "outputId": "dcaa5090-6fc8-4437-d381-d7315b4177b2"
      },
      "execution_count": null,
      "outputs": [
        {
          "output_type": "stream",
          "name": "stdout",
          "text": [
            "5\n",
            "4\n",
            "3\n",
            "2\n",
            "1\n",
            "1\n",
            "2\n",
            "3\n",
            "4\n",
            "5\n"
          ]
        }
      ]
    },
    {
      "cell_type": "markdown",
      "source": [
        "# Factorial "
      ],
      "metadata": {
        "id": "ugffxhxiT3q9"
      }
    },
    {
      "cell_type": "code",
      "source": [
        "def fact(n):\n",
        "  if n == 1:\n",
        "    return 1\n",
        "  return n*fact(n-1)\n",
        "fact(5)"
      ],
      "metadata": {
        "colab": {
          "base_uri": "https://localhost:8080/"
        },
        "id": "OIZW934gTnNB",
        "outputId": "6bca2577-39f7-4bf7-cdbd-ff55b185f930"
      },
      "execution_count": null,
      "outputs": [
        {
          "output_type": "execute_result",
          "data": {
            "text/plain": [
              "120"
            ]
          },
          "metadata": {},
          "execution_count": 7
        }
      ]
    },
    {
      "cell_type": "markdown",
      "source": [
        "# Power (Linear)"
      ],
      "metadata": {
        "id": "lKorwNquU9-V"
      }
    },
    {
      "cell_type": "code",
      "source": [
        "def power(x,n):\n",
        "  if n == 0:\n",
        "    return 1\n",
        "  return x*power(x,n-1)\n",
        "power(2,3)"
      ],
      "metadata": {
        "colab": {
          "base_uri": "https://localhost:8080/"
        },
        "id": "W1nkrn2PUK1E",
        "outputId": "be86eaa7-70f3-41cd-91ee-b4155372fc2d"
      },
      "execution_count": null,
      "outputs": [
        {
          "output_type": "execute_result",
          "data": {
            "text/plain": [
              "8"
            ]
          },
          "metadata": {},
          "execution_count": 8
        }
      ]
    },
    {
      "cell_type": "markdown",
      "source": [
        "#Power (Log)"
      ],
      "metadata": {
        "id": "mJOXSnEgWqyf"
      }
    },
    {
      "cell_type": "code",
      "source": [
        "def powlog(x,n):\n",
        "  if n == 0:\n",
        "    return 1\n",
        "  loc_pow = powlog(x, int(n/2))\n",
        "  loc_pow *= loc_pow\n",
        "  if n%2 != 0:\n",
        "    loc_pow = loc_pow * x\n",
        "  return loc_pow\n",
        "powlog(2,3)"
      ],
      "metadata": {
        "colab": {
          "base_uri": "https://localhost:8080/"
        },
        "id": "rHjsY9skVVmo",
        "outputId": "c58dd069-9e7c-48ef-b77a-1c29345220f7"
      },
      "execution_count": null,
      "outputs": [
        {
          "output_type": "execute_result",
          "data": {
            "text/plain": [
              "8"
            ]
          },
          "metadata": {},
          "execution_count": 15
        }
      ]
    },
    {
      "cell_type": "markdown",
      "source": [
        "# Zig Zag Recursion "
      ],
      "metadata": {
        "id": "FR1pAzcqT8rp"
      }
    },
    {
      "cell_type": "code",
      "source": [
        "def zigzag(n):\n",
        "  if n == 0: return \n",
        "  print(\"zig \",n)\n",
        "  zigzag(n-1)\n",
        "  print(\"dot \",n)\n",
        "  zigzag(n-1)\n",
        "  print(\"zag \",n)\n",
        "zigzag(2)"
      ],
      "metadata": {
        "colab": {
          "base_uri": "https://localhost:8080/"
        },
        "id": "I8w1u5IMT64g",
        "outputId": "d902d88c-d16b-43f3-b1ff-7f9ec71b2c32"
      },
      "execution_count": null,
      "outputs": [
        {
          "output_type": "stream",
          "name": "stdout",
          "text": [
            "zig  2\n",
            "zig  1\n",
            "dot  1\n",
            "zag  1\n",
            "dot  2\n",
            "zig  1\n",
            "dot  1\n",
            "zag  1\n",
            "zag  2\n"
          ]
        }
      ]
    },
    {
      "cell_type": "markdown",
      "source": [
        "# Tower of hanoi"
      ],
      "metadata": {
        "id": "70chPZhxMNqh"
      }
    },
    {
      "cell_type": "code",
      "source": [
        "def toh(n,t1,t2,t3):\n",
        "  if n == 0:\n",
        "    return \n",
        "  toh(n-1,t1,t3,t2)\n",
        "  print(n, \"[ \",t1,\"->\",t2,\" ]\")\n",
        "  toh(n-1,t3,t2,t1)\n",
        "toh(3,\"A\",\"B\",\"C\")"
      ],
      "metadata": {
        "id": "3dkos-BIXLaa",
        "colab": {
          "base_uri": "https://localhost:8080/"
        },
        "outputId": "ac3af09d-861a-4cd6-a990-c8c1cfdc45d1"
      },
      "execution_count": 1,
      "outputs": [
        {
          "output_type": "stream",
          "name": "stdout",
          "text": [
            "1 [  A -> B  ]\n",
            "2 [  A -> C  ]\n",
            "1 [  B -> C  ]\n",
            "3 [  A -> B  ]\n",
            "1 [  C -> A  ]\n",
            "2 [  C -> B  ]\n",
            "1 [  A -> B  ]\n"
          ]
        }
      ]
    },
    {
      "cell_type": "markdown",
      "source": [
        "# Display Array"
      ],
      "metadata": {
        "id": "iiJtI74EN-W5"
      }
    },
    {
      "cell_type": "code",
      "source": [
        "def disarr(arr,idx):\n",
        "  if idx == len(arr):\n",
        "    return \n",
        "  print(arr[idx])\n",
        "  disarr(arr,idx+1)\n",
        "\n",
        "disarr([1,2,3,4,5],0)"
      ],
      "metadata": {
        "colab": {
          "base_uri": "https://localhost:8080/"
        },
        "id": "vSg2aOdLNcVG",
        "outputId": "f16cd1eb-2b68-411c-f502-12822b75fd20"
      },
      "execution_count": 7,
      "outputs": [
        {
          "output_type": "stream",
          "name": "stdout",
          "text": [
            "1\n",
            "2\n",
            "3\n",
            "4\n",
            "5\n"
          ]
        }
      ]
    },
    {
      "cell_type": "markdown",
      "source": [
        "# Display reverse array"
      ],
      "metadata": {
        "id": "8LlUOXfuO-Tu"
      }
    },
    {
      "cell_type": "code",
      "source": [
        "def disrev(arr,idx):\n",
        "  n = len(arr)\n",
        "  if idx == n:\n",
        "    return \n",
        "  print(arr[n-idx-1])\n",
        "  disrev(arr,idx+1)\n",
        "disrev([1,2,3,4,5],0)"
      ],
      "metadata": {
        "colab": {
          "base_uri": "https://localhost:8080/"
        },
        "id": "v-dwMYvnOZv8",
        "outputId": "56941112-488a-4a2a-be3b-07f5f423a70a"
      },
      "execution_count": 9,
      "outputs": [
        {
          "output_type": "stream",
          "name": "stdout",
          "text": [
            "5\n",
            "4\n",
            "3\n",
            "2\n",
            "1\n"
          ]
        }
      ]
    },
    {
      "cell_type": "markdown",
      "source": [
        "# Maximum in array "
      ],
      "metadata": {
        "id": "NYrl3B96Pm8D"
      }
    },
    {
      "cell_type": "code",
      "source": [
        "# Nubbies code !!\n",
        "def maxi(arr,idx):\n",
        "  n = len(arr)\n",
        "  if idx == n:\n",
        "    print(arr[idx-1])\n",
        "    return \n",
        "  elif arr[idx] > arr[n-1]:\n",
        "    arr[n-1],arr[idx] = arr[idx], arr[n-1]\n",
        "  print(idx,\":\",arr)\n",
        "  maxi(arr,idx+1)\n",
        "\n",
        "def maxipro(arr,idx):\n",
        "  if idx == len(arr):\n",
        "    return 0\n",
        "  loc_mx = maxipro(arr,idx+1)\n",
        "  if loc_mx > arr[idx]:\n",
        "    return loc_mx\n",
        "  else:\n",
        "    return arr[idx]\n",
        "maxipro([9,40,23,86,12],0)\n",
        "\n"
      ],
      "metadata": {
        "colab": {
          "base_uri": "https://localhost:8080/"
        },
        "id": "vW_IDqhxPYBZ",
        "outputId": "74c835f2-b59d-44fa-f7f1-4b527558d641"
      },
      "execution_count": 54,
      "outputs": [
        {
          "output_type": "execute_result",
          "data": {
            "text/plain": [
              "86"
            ]
          },
          "metadata": {},
          "execution_count": 54
        }
      ]
    },
    {
      "cell_type": "markdown",
      "source": [
        "#First occurencenc in array"
      ],
      "metadata": {
        "id": "d8Ks9OgeWABk"
      }
    },
    {
      "cell_type": "code",
      "source": [
        "def foia(arr,idx,ele):\n",
        "  if idx == len(arr):\n",
        "    return -1\n",
        "  loc_idx = foia(arr,idx+1,ele)\n",
        "  if arr[idx] == ele:\n",
        "    return idx\n",
        "  else:\n",
        "    return loc_idx\n",
        "foia([4,6,2,7,3,7,2,3],0,7)\n"
      ],
      "metadata": {
        "colab": {
          "base_uri": "https://localhost:8080/"
        },
        "id": "SKMv6OuKQ42r",
        "outputId": "f159a535-701f-4eff-9d90-0af92e337efe"
      },
      "execution_count": 57,
      "outputs": [
        {
          "output_type": "execute_result",
          "data": {
            "text/plain": [
              "3"
            ]
          },
          "metadata": {},
          "execution_count": 57
        }
      ]
    },
    {
      "cell_type": "markdown",
      "source": [
        "# Last Occurencenc in array"
      ],
      "metadata": {
        "id": "b0liQPo6ZMnp"
      }
    },
    {
      "cell_type": "code",
      "source": [
        "def loia(arr,idx,ele):\n",
        "  if idx == len(arr):\n",
        "    return -1 \n",
        "  loc_idx = loia(arr,idx+1,ele)\n",
        "  if loc_idx == -1:\n",
        "    if arr[idx] == ele:\n",
        "      return idx\n",
        "    else:\n",
        "      return -1\n",
        "  else:\n",
        "    return loc_idx\n",
        "\n",
        "loia([4,6,2,7,4,3,7,2,3],0,3)"
      ],
      "metadata": {
        "colab": {
          "base_uri": "https://localhost:8080/"
        },
        "id": "91JJ25trXPvv",
        "outputId": "e88f1b5c-4e1a-4e35-f7ca-ac533cf35c10"
      },
      "execution_count": 76,
      "outputs": [
        {
          "output_type": "execute_result",
          "data": {
            "text/plain": [
              "8"
            ]
          },
          "metadata": {},
          "execution_count": 76
        }
      ]
    },
    {
      "cell_type": "markdown",
      "source": [
        "# All Index of element in array"
      ],
      "metadata": {
        "id": "IKWzLtl1eDYG"
      }
    },
    {
      "cell_type": "code",
      "source": [
        "def aiea(arr,idx,ele,fsf):\n",
        "  if idx == len(arr):\n",
        "    return [0 for i in range(fsf)]\n",
        "  lst = []\n",
        "  if arr[idx] == ele:\n",
        "    lst = aiea(arr,idx+1,ele,fsf+1)\n",
        "    lst[fsf] = idx\n",
        "    return lst\n",
        "  else:\n",
        "    lst = aiea(arr,idx+1,ele,fsf)\n",
        "    return lst  \n",
        "    \n",
        "\n",
        "print(aiea([4,6,2,7,4,3,7,2,3],0,3,0))"
      ],
      "metadata": {
        "colab": {
          "base_uri": "https://localhost:8080/"
        },
        "id": "P5yphBqgZc1j",
        "outputId": "736a1f4f-793d-43dd-f697-d5924b8efec8"
      },
      "execution_count": 90,
      "outputs": [
        {
          "output_type": "stream",
          "name": "stdout",
          "text": [
            "[5, 8]\n"
          ]
        }
      ]
    },
    {
      "cell_type": "markdown",
      "source": [
        "# Get Subsequence"
      ],
      "metadata": {
        "id": "I8fsfdttu54r"
      }
    },
    {
      "cell_type": "code",
      "source": [
        "def getsub(word):\n",
        "  if word == \"\":\n",
        "    return [\" \"]\n",
        "  ch = word[0]\n",
        "  ls = getsub(word[1:])\n",
        "  lt = []\n",
        "  for i in ls:\n",
        "    lt.append(\"\"+i)\n",
        "    lt.append(ch+i)\n",
        "  return lt\n",
        "getsub(\"abc\")\n"
      ],
      "metadata": {
        "colab": {
          "base_uri": "https://localhost:8080/"
        },
        "id": "E-QNDVEwexs5",
        "outputId": "a99f0d1b-625f-4cea-c165-6181ff6ce089"
      },
      "execution_count": 97,
      "outputs": [
        {
          "output_type": "execute_result",
          "data": {
            "text/plain": [
              "[' ', 'a ', 'b ', 'ab ', 'c ', 'ac ', 'bc ', 'abc ']"
            ]
          },
          "metadata": {},
          "execution_count": 97
        }
      ]
    },
    {
      "cell_type": "markdown",
      "source": [
        "# Keypad Combination "
      ],
      "metadata": {
        "id": "ha79YqHZyTWR"
      }
    },
    {
      "cell_type": "code",
      "source": [
        "def keycomb(keypad,press):\n",
        "  if press == \"\":\n",
        "    return [\"\"]\n",
        "  ch = press[0]\n",
        "  ls = keycomb(keypad,press[1:])\n",
        "  lt = []\n",
        "  word = keypad[int(ch)]\n",
        "  for w in word:\n",
        "    for l in ls:\n",
        "      lt.append(w + l)\n",
        "  return lt\n",
        "\n",
        "keypad = [\",!\",\"abc\",\"def\",\"ghi\",\"jkl\",\"mno\",\"pqrs\",\"tu\",\"vwx\",\"yz\"]\n",
        "keycomb(keypad,\"157\")"
      ],
      "metadata": {
        "colab": {
          "base_uri": "https://localhost:8080/"
        },
        "id": "JjTrD2Y6vqgx",
        "outputId": "62dbeed0-50a1-4955-a006-7e76c8e0bbe6"
      },
      "execution_count": 101,
      "outputs": [
        {
          "output_type": "execute_result",
          "data": {
            "text/plain": [
              "['amt',\n",
              " 'amu',\n",
              " 'ant',\n",
              " 'anu',\n",
              " 'aot',\n",
              " 'aou',\n",
              " 'bmt',\n",
              " 'bmu',\n",
              " 'bnt',\n",
              " 'bnu',\n",
              " 'bot',\n",
              " 'bou',\n",
              " 'cmt',\n",
              " 'cmu',\n",
              " 'cnt',\n",
              " 'cnu',\n",
              " 'cot',\n",
              " 'cou']"
            ]
          },
          "metadata": {},
          "execution_count": 101
        }
      ]
    },
    {
      "cell_type": "markdown",
      "source": [
        "# Get Stairs Path"
      ],
      "metadata": {
        "id": "ay79xwjy3DtE"
      }
    },
    {
      "cell_type": "code",
      "source": [
        "def gsp(n):\n",
        "  if n == 0:\n",
        "    return [\"\"]\n",
        "  elif n < 0:\n",
        "    return []\n",
        "  p1 = gsp(n-1)\n",
        "  p2 = gsp(n-2)\n",
        "  p3 = gsp(n-3)\n",
        "  ls = []\n",
        "  for i in p1:\n",
        "    ls.append(\"1\"+i)\n",
        "  for j in p2:\n",
        "    ls.append(\"2\"+j)\n",
        "  for k in p3:\n",
        "    ls.append(\"3\"+k)\n",
        "  return ls\n",
        "gsp(3)\n"
      ],
      "metadata": {
        "colab": {
          "base_uri": "https://localhost:8080/"
        },
        "id": "EPmdxv1x0PiH",
        "outputId": "d0010d61-60da-4391-a63c-21fc7f6312d0"
      },
      "execution_count": 106,
      "outputs": [
        {
          "output_type": "execute_result",
          "data": {
            "text/plain": [
              "['111', '12', '21', '3']"
            ]
          },
          "metadata": {},
          "execution_count": 106
        }
      ]
    },
    {
      "cell_type": "markdown",
      "source": [
        "# Get Maze Path"
      ],
      "metadata": {
        "id": "oLHn4jfW8b7O"
      }
    },
    {
      "cell_type": "code",
      "source": [
        "def gmp(sr,sc,dr,dc):\n",
        "  if sr == dr and sc == dc:\n",
        "    return [\"\"]\n",
        "  hp = []\n",
        "  vp = []\n",
        "  if sc < dc:\n",
        "    hp = gmp(sr,sc+1,dr,dc)\n",
        "  if sr < dr:\n",
        "    vp = gmp(sr+1,sc,dr,dc)\n",
        "  ls = []\n",
        "  for h in hp:\n",
        "    ls.append('h'+ h)\n",
        "  for v in vp:\n",
        "    ls.append('v'+ v)\n",
        "  return ls\n",
        "gmp(1,1,3,3)"
      ],
      "metadata": {
        "colab": {
          "base_uri": "https://localhost:8080/"
        },
        "id": "-vTYeYQt6jnr",
        "outputId": "98d04849-b4f7-41b3-80a5-b079fc4a4772"
      },
      "execution_count": 116,
      "outputs": [
        {
          "output_type": "execute_result",
          "data": {
            "text/plain": [
              "['hhvv', 'hvhv', 'hvvh', 'vhhv', 'vhvh', 'vvhh']"
            ]
          },
          "metadata": {},
          "execution_count": 116
        }
      ]
    },
    {
      "cell_type": "code",
      "source": [
        ""
      ],
      "metadata": {
        "id": "xBMqx85r-O2V"
      },
      "execution_count": null,
      "outputs": []
    }
  ]
}