{
  "nbformat": 4,
  "nbformat_minor": 0,
  "metadata": {
    "colab": {
      "name": "Recursion & Backtracking.ipynb",
      "provenance": [],
      "authorship_tag": "ABX9TyPaS7JuAwTExs0imYBtzt2Y",
      "include_colab_link": true
    },
    "kernelspec": {
      "name": "python3",
      "display_name": "Python 3"
    },
    "language_info": {
      "name": "python"
    }
  },
  "cells": [
    {
      "cell_type": "markdown",
      "metadata": {
        "id": "view-in-github",
        "colab_type": "text"
      },
      "source": [
        "<a href=\"https://colab.research.google.com/github/tpriyanshukrishnan/codespace/blob/main/Recursion_%26_Backtracking.ipynb\" target=\"_parent\"><img src=\"https://colab.research.google.com/assets/colab-badge.svg\" alt=\"Open In Colab\"/></a>"
      ]
    },
    {
      "cell_type": "markdown",
      "source": [
        "# 🪐 Welcome to World Of Programming Inceptions : Recursion \n",
        "\n",
        "## High Level Thinking\n",
        "\n",
        "\n",
        "*   Set **Expectation**. \n",
        "*   Built **Faith**.\n",
        "*   Link **Expectation & Faith** together.\n",
        "\n",
        "## Low Level Thinking\n",
        "\n",
        "*   Do **Dry Run**.\n",
        "*   Trace **Stack** for base case."
      ],
      "metadata": {
        "id": "2pYFfNUjM1T6"
      }
    },
    {
      "cell_type": "markdown",
      "source": [
        "# Print Decreasing Order "
      ],
      "metadata": {
        "id": "mq4jrdKCPTnC"
      }
    },
    {
      "cell_type": "code",
      "source": [
        "def pdo(n):\n",
        "  if n == 0:\n",
        "    return # Please Stop, Now you may go into hell [RecursionError: maximum recursion depth exceeded]\n",
        "  print(n)\n",
        "  pdo(n-1)\n",
        "pdo(5)"
      ],
      "metadata": {
        "colab": {
          "base_uri": "https://localhost:8080/"
        },
        "id": "Lx7Wn8eMPS0v",
        "outputId": "1353852a-f29d-4226-ccaa-194df8afd4b2"
      },
      "execution_count": null,
      "outputs": [
        {
          "output_type": "stream",
          "name": "stdout",
          "text": [
            "5\n",
            "4\n",
            "3\n",
            "2\n",
            "1\n"
          ]
        }
      ]
    },
    {
      "cell_type": "markdown",
      "source": [
        "# Print Increasing Order"
      ],
      "metadata": {
        "id": "Rrf_ommyQ8rb"
      }
    },
    {
      "cell_type": "code",
      "source": [
        "def pio(n):\n",
        "  if n == 0:\n",
        "    return \n",
        "  pio(n-1)\n",
        "  print(n)\n",
        "  \n",
        "pio(5)"
      ],
      "metadata": {
        "id": "75Ze0uNtIoBP",
        "colab": {
          "base_uri": "https://localhost:8080/"
        },
        "outputId": "9a325468-66b2-4044-9842-d09a18c59400"
      },
      "execution_count": null,
      "outputs": [
        {
          "output_type": "stream",
          "name": "stdout",
          "text": [
            "1\n",
            "2\n",
            "3\n",
            "4\n",
            "5\n"
          ]
        }
      ]
    },
    {
      "cell_type": "markdown",
      "source": [
        "# Print Decreasing & Increasing Order\n"
      ],
      "metadata": {
        "id": "N3tX7JzHTWQN"
      }
    },
    {
      "cell_type": "code",
      "source": [
        "def pdio(n):\n",
        "  if n == 0:\n",
        "    return \n",
        "  print(n)\n",
        "  pdio(n-1)\n",
        "  print(n)\n",
        "pdio(5)"
      ],
      "metadata": {
        "colab": {
          "base_uri": "https://localhost:8080/"
        },
        "id": "-BT1-UYKNKOa",
        "outputId": "dcaa5090-6fc8-4437-d381-d7315b4177b2"
      },
      "execution_count": null,
      "outputs": [
        {
          "output_type": "stream",
          "name": "stdout",
          "text": [
            "5\n",
            "4\n",
            "3\n",
            "2\n",
            "1\n",
            "1\n",
            "2\n",
            "3\n",
            "4\n",
            "5\n"
          ]
        }
      ]
    },
    {
      "cell_type": "markdown",
      "source": [
        "# Factorial "
      ],
      "metadata": {
        "id": "ugffxhxiT3q9"
      }
    },
    {
      "cell_type": "code",
      "source": [
        "def fact(n):\n",
        "  if n == 1:\n",
        "    return 1\n",
        "  return n*fact(n-1)\n",
        "fact(5)"
      ],
      "metadata": {
        "colab": {
          "base_uri": "https://localhost:8080/"
        },
        "id": "OIZW934gTnNB",
        "outputId": "6bca2577-39f7-4bf7-cdbd-ff55b185f930"
      },
      "execution_count": null,
      "outputs": [
        {
          "output_type": "execute_result",
          "data": {
            "text/plain": [
              "120"
            ]
          },
          "metadata": {},
          "execution_count": 7
        }
      ]
    },
    {
      "cell_type": "markdown",
      "source": [
        "# Power (Linear)"
      ],
      "metadata": {
        "id": "lKorwNquU9-V"
      }
    },
    {
      "cell_type": "code",
      "source": [
        "def power(x,n):\n",
        "  if n == 0:\n",
        "    return 1\n",
        "  return x*power(x,n-1)\n",
        "power(2,3)"
      ],
      "metadata": {
        "colab": {
          "base_uri": "https://localhost:8080/"
        },
        "id": "W1nkrn2PUK1E",
        "outputId": "be86eaa7-70f3-41cd-91ee-b4155372fc2d"
      },
      "execution_count": null,
      "outputs": [
        {
          "output_type": "execute_result",
          "data": {
            "text/plain": [
              "8"
            ]
          },
          "metadata": {},
          "execution_count": 8
        }
      ]
    },
    {
      "cell_type": "markdown",
      "source": [
        "#Power (Log)"
      ],
      "metadata": {
        "id": "mJOXSnEgWqyf"
      }
    },
    {
      "cell_type": "code",
      "source": [
        "def powlog(x,n):\n",
        "  if n == 0:\n",
        "    return 1\n",
        "  loc_pow = powlog(x, int(n/2))\n",
        "  loc_pow *= loc_pow\n",
        "  if n%2 != 0:\n",
        "    loc_pow = loc_pow * x\n",
        "  return loc_pow\n",
        "powlog(2,3)"
      ],
      "metadata": {
        "colab": {
          "base_uri": "https://localhost:8080/"
        },
        "id": "rHjsY9skVVmo",
        "outputId": "c58dd069-9e7c-48ef-b77a-1c29345220f7"
      },
      "execution_count": null,
      "outputs": [
        {
          "output_type": "execute_result",
          "data": {
            "text/plain": [
              "8"
            ]
          },
          "metadata": {},
          "execution_count": 15
        }
      ]
    },
    {
      "cell_type": "markdown",
      "source": [
        "# Zig Zag Recursion "
      ],
      "metadata": {
        "id": "FR1pAzcqT8rp"
      }
    },
    {
      "cell_type": "code",
      "source": [
        "def zigzag(n):\n",
        "  if n == 0: return \n",
        "  print(\"zig \",n)\n",
        "  zigzag(n-1)\n",
        "  print(\"dot \",n)\n",
        "  zigzag(n-1)\n",
        "  print(\"zag \",n)\n",
        "zigzag(2)"
      ],
      "metadata": {
        "colab": {
          "base_uri": "https://localhost:8080/"
        },
        "id": "I8w1u5IMT64g",
        "outputId": "d902d88c-d16b-43f3-b1ff-7f9ec71b2c32"
      },
      "execution_count": null,
      "outputs": [
        {
          "output_type": "stream",
          "name": "stdout",
          "text": [
            "zig  2\n",
            "zig  1\n",
            "dot  1\n",
            "zag  1\n",
            "dot  2\n",
            "zig  1\n",
            "dot  1\n",
            "zag  1\n",
            "zag  2\n"
          ]
        }
      ]
    },
    {
      "cell_type": "markdown",
      "source": [
        "# Tower of hanoi"
      ],
      "metadata": {
        "id": "70chPZhxMNqh"
      }
    },
    {
      "cell_type": "code",
      "source": [
        "def toh(n,t1,t2,t3):\n",
        "  if n == 0:\n",
        "    return \n",
        "  toh(n-1,t1,t3,t2)\n",
        "  print(n, \"[ \",t1,\"->\",t2,\" ]\")\n",
        "  toh(n-1,t3,t2,t1)\n",
        "toh(3,\"A\",\"B\",\"C\")"
      ],
      "metadata": {
        "id": "3dkos-BIXLaa",
        "colab": {
          "base_uri": "https://localhost:8080/"
        },
        "outputId": "ac3af09d-861a-4cd6-a990-c8c1cfdc45d1"
      },
      "execution_count": null,
      "outputs": [
        {
          "output_type": "stream",
          "name": "stdout",
          "text": [
            "1 [  A -> B  ]\n",
            "2 [  A -> C  ]\n",
            "1 [  B -> C  ]\n",
            "3 [  A -> B  ]\n",
            "1 [  C -> A  ]\n",
            "2 [  C -> B  ]\n",
            "1 [  A -> B  ]\n"
          ]
        }
      ]
    },
    {
      "cell_type": "markdown",
      "source": [
        "# Display Array"
      ],
      "metadata": {
        "id": "iiJtI74EN-W5"
      }
    },
    {
      "cell_type": "code",
      "source": [
        "def disarr(arr,idx):\n",
        "  if idx == len(arr):\n",
        "    return \n",
        "  print(arr[idx])\n",
        "  disarr(arr,idx+1)\n",
        "\n",
        "disarr([1,2,3,4,5],0)"
      ],
      "metadata": {
        "colab": {
          "base_uri": "https://localhost:8080/"
        },
        "id": "vSg2aOdLNcVG",
        "outputId": "f16cd1eb-2b68-411c-f502-12822b75fd20"
      },
      "execution_count": null,
      "outputs": [
        {
          "output_type": "stream",
          "name": "stdout",
          "text": [
            "1\n",
            "2\n",
            "3\n",
            "4\n",
            "5\n"
          ]
        }
      ]
    },
    {
      "cell_type": "markdown",
      "source": [
        "# Display reverse array"
      ],
      "metadata": {
        "id": "8LlUOXfuO-Tu"
      }
    },
    {
      "cell_type": "code",
      "source": [
        "def disrev(arr,idx):\n",
        "  n = len(arr)\n",
        "  if idx == n:\n",
        "    return \n",
        "  print(arr[n-idx-1])\n",
        "  disrev(arr,idx+1)\n",
        "disrev([1,2,3,4,5],0)"
      ],
      "metadata": {
        "colab": {
          "base_uri": "https://localhost:8080/"
        },
        "id": "v-dwMYvnOZv8",
        "outputId": "56941112-488a-4a2a-be3b-07f5f423a70a"
      },
      "execution_count": null,
      "outputs": [
        {
          "output_type": "stream",
          "name": "stdout",
          "text": [
            "5\n",
            "4\n",
            "3\n",
            "2\n",
            "1\n"
          ]
        }
      ]
    },
    {
      "cell_type": "markdown",
      "source": [
        "# Maximum in array "
      ],
      "metadata": {
        "id": "NYrl3B96Pm8D"
      }
    },
    {
      "cell_type": "code",
      "source": [
        "# Nubbies code !!\n",
        "def maxi(arr,idx):\n",
        "  n = len(arr)\n",
        "  if idx == n:\n",
        "    print(arr[idx-1])\n",
        "    return \n",
        "  elif arr[idx] > arr[n-1]:\n",
        "    arr[n-1],arr[idx] = arr[idx], arr[n-1]\n",
        "  print(idx,\":\",arr)\n",
        "  maxi(arr,idx+1)\n",
        "\n",
        "def maxipro(arr,idx):\n",
        "  if idx == len(arr):\n",
        "    return 0\n",
        "  loc_mx = maxipro(arr,idx+1)\n",
        "  if loc_mx > arr[idx]:\n",
        "    return loc_mx\n",
        "  else:\n",
        "    return arr[idx]\n",
        "maxipro([9,40,23,86,12],0)\n",
        "\n"
      ],
      "metadata": {
        "colab": {
          "base_uri": "https://localhost:8080/"
        },
        "id": "vW_IDqhxPYBZ",
        "outputId": "74c835f2-b59d-44fa-f7f1-4b527558d641"
      },
      "execution_count": null,
      "outputs": [
        {
          "output_type": "execute_result",
          "data": {
            "text/plain": [
              "86"
            ]
          },
          "metadata": {},
          "execution_count": 54
        }
      ]
    },
    {
      "cell_type": "markdown",
      "source": [
        "#First occurencenc in array"
      ],
      "metadata": {
        "id": "d8Ks9OgeWABk"
      }
    },
    {
      "cell_type": "code",
      "source": [
        "def foia(arr,idx,ele):\n",
        "  if idx == len(arr):\n",
        "    return -1\n",
        "  loc_idx = foia(arr,idx+1,ele)\n",
        "  if arr[idx] == ele:\n",
        "    return idx\n",
        "  else:\n",
        "    return loc_idx\n",
        "foia([4,6,2,7,3,7,2,3],0,7)\n"
      ],
      "metadata": {
        "colab": {
          "base_uri": "https://localhost:8080/"
        },
        "id": "SKMv6OuKQ42r",
        "outputId": "f159a535-701f-4eff-9d90-0af92e337efe"
      },
      "execution_count": null,
      "outputs": [
        {
          "output_type": "execute_result",
          "data": {
            "text/plain": [
              "3"
            ]
          },
          "metadata": {},
          "execution_count": 57
        }
      ]
    },
    {
      "cell_type": "markdown",
      "source": [
        "# Last Occurencenc in array"
      ],
      "metadata": {
        "id": "b0liQPo6ZMnp"
      }
    },
    {
      "cell_type": "code",
      "source": [
        "def loia(arr,idx,ele):\n",
        "  if idx == len(arr):\n",
        "    return -1 \n",
        "  loc_idx = loia(arr,idx+1,ele)\n",
        "  if loc_idx == -1:\n",
        "    if arr[idx] == ele:\n",
        "      return idx\n",
        "    else:\n",
        "      return -1\n",
        "  else:\n",
        "    return loc_idx\n",
        "\n",
        "loia([4,6,2,7,4,3,7,2,3],0,3)"
      ],
      "metadata": {
        "colab": {
          "base_uri": "https://localhost:8080/"
        },
        "id": "91JJ25trXPvv",
        "outputId": "e88f1b5c-4e1a-4e35-f7ca-ac533cf35c10"
      },
      "execution_count": null,
      "outputs": [
        {
          "output_type": "execute_result",
          "data": {
            "text/plain": [
              "8"
            ]
          },
          "metadata": {},
          "execution_count": 76
        }
      ]
    },
    {
      "cell_type": "markdown",
      "source": [
        "# All Index of element in array"
      ],
      "metadata": {
        "id": "IKWzLtl1eDYG"
      }
    },
    {
      "cell_type": "code",
      "source": [
        "def aiea(arr,idx,ele,fsf):\n",
        "  if idx == len(arr):\n",
        "    return [0 for i in range(fsf)]\n",
        "  lst = []\n",
        "  if arr[idx] == ele:\n",
        "    lst = aiea(arr,idx+1,ele,fsf+1)\n",
        "    lst[fsf] = idx\n",
        "    return lst\n",
        "  else:\n",
        "    lst = aiea(arr,idx+1,ele,fsf)\n",
        "    return lst  \n",
        "    \n",
        "\n",
        "print(aiea([4,6,2,7,4,3,7,2,3],0,3,0))"
      ],
      "metadata": {
        "colab": {
          "base_uri": "https://localhost:8080/"
        },
        "id": "P5yphBqgZc1j",
        "outputId": "736a1f4f-793d-43dd-f697-d5924b8efec8"
      },
      "execution_count": null,
      "outputs": [
        {
          "output_type": "stream",
          "name": "stdout",
          "text": [
            "[5, 8]\n"
          ]
        }
      ]
    },
    {
      "cell_type": "markdown",
      "source": [
        "# Get Subsequence"
      ],
      "metadata": {
        "id": "I8fsfdttu54r"
      }
    },
    {
      "cell_type": "code",
      "source": [
        "# Heavy Memory Usage Method\n",
        "def getsub(word):\n",
        "  if word == \"\":\n",
        "    return [\"\"]\n",
        "  ch = word[0]\n",
        "  ls = getsub(word[1:])\n",
        "  lt = []\n",
        "  for i in ls:\n",
        "    lt.append(\"\"+i)\n",
        "    lt.append(ch+i)\n",
        "  return lt\n",
        "getsub(\"abc\")\n",
        "\n",
        "# Low Memory Usage Method\n",
        "def getsublow(word,ans):\n",
        "  if word == \"\":\n",
        "    print(ans)\n",
        "    return\n",
        "  ch = word[0]\n",
        "  wd = word[1:]\n",
        "  getsublow(wd, ans + \"\")\n",
        "  getsublow(wd, ans + ch)\n",
        "getsublow(\"abc\",\"\")\n"
      ],
      "metadata": {
        "colab": {
          "base_uri": "https://localhost:8080/"
        },
        "id": "E-QNDVEwexs5",
        "outputId": "bf43fdbe-8875-413d-9052-6dabb4bca625"
      },
      "execution_count": 12,
      "outputs": [
        {
          "output_type": "stream",
          "name": "stdout",
          "text": [
            "\n",
            "c\n",
            "b\n",
            "bc\n",
            "a\n",
            "ac\n",
            "ab\n",
            "abc\n"
          ]
        }
      ]
    },
    {
      "cell_type": "markdown",
      "source": [
        "# Keypad Combination "
      ],
      "metadata": {
        "id": "ha79YqHZyTWR"
      }
    },
    {
      "cell_type": "code",
      "source": [
        "keypad = [\",!\",\"abc\",\"def\",\"ghi\",\"jkl\",\"mno\",\"pqrs\",\"tu\",\"vwx\",\"yz\"]\n",
        "# Heavy In-Memory Usage Method\n",
        "def keycomb(press):\n",
        "  if press == \"\":\n",
        "    return [\"\"]\n",
        "  ch = press[0]\n",
        "  ls = keycomb(press[1:])\n",
        "  lt = []\n",
        "  word = keypad[int(ch)]\n",
        "  for w in word:\n",
        "    for l in ls:\n",
        "      lt.append(w + l)\n",
        "  return lt\n",
        "keycomb(\"157\")\n",
        "\n",
        "# Low In-Memory Usage Method\n",
        "def keycomp2(press,ans):\n",
        "  if press == \"\":\n",
        "    print(ans)\n",
        "    return \n",
        "  ch = press[0]\n",
        "  keys = keypad[int(ch)]\n",
        "  for k in keys:\n",
        "    keycomp2(press[1:],ans + k)\n",
        "keycomp2(\"157\",\"\")\n",
        "\n"
      ],
      "metadata": {
        "colab": {
          "base_uri": "https://localhost:8080/"
        },
        "id": "JjTrD2Y6vqgx",
        "outputId": "cb3188b2-7eff-48de-e0b5-5d071dc98b6a"
      },
      "execution_count": 16,
      "outputs": [
        {
          "output_type": "stream",
          "name": "stdout",
          "text": [
            "amt\n",
            "amu\n",
            "ant\n",
            "anu\n",
            "aot\n",
            "aou\n",
            "bmt\n",
            "bmu\n",
            "bnt\n",
            "bnu\n",
            "bot\n",
            "bou\n",
            "cmt\n",
            "cmu\n",
            "cnt\n",
            "cnu\n",
            "cot\n",
            "cou\n"
          ]
        }
      ]
    },
    {
      "cell_type": "markdown",
      "source": [
        "# Get Stairs Path"
      ],
      "metadata": {
        "id": "ay79xwjy3DtE"
      }
    },
    {
      "cell_type": "code",
      "source": [
        "# Heavy In-Memory Usage Method\n",
        "def gsp(n):\n",
        "  if n == 0:\n",
        "    return [\"\"]\n",
        "  elif n < 0:\n",
        "    return []\n",
        "  p1 = gsp(n-1)\n",
        "  p2 = gsp(n-2)\n",
        "  p3 = gsp(n-3)\n",
        "  ls = []\n",
        "  for i in p1:\n",
        "    ls.append(\"1\"+i)\n",
        "  for j in p2:\n",
        "    ls.append(\"2\"+j)\n",
        "  for k in p3:\n",
        "    ls.append(\"3\"+k)\n",
        "  return ls\n",
        "gsp(3)\n",
        "\n",
        "# Low In-Memory Usage Method\n",
        "def gsp2(n,ans):\n",
        "  if n == 0:\n",
        "    print(ans)\n",
        "    return\n",
        "  elif n < 0:\n",
        "    return \n",
        "  for i in range(1,4):\n",
        "    gsp2(n-i,ans + str(i))\n",
        "\n",
        "gsp2(3,\"\")"
      ],
      "metadata": {
        "colab": {
          "base_uri": "https://localhost:8080/"
        },
        "id": "EPmdxv1x0PiH",
        "outputId": "9299a5c5-fd7e-443b-8716-602e3f87ae2c"
      },
      "execution_count": 19,
      "outputs": [
        {
          "output_type": "stream",
          "name": "stdout",
          "text": [
            "111\n",
            "12\n",
            "21\n",
            "3\n"
          ]
        }
      ]
    },
    {
      "cell_type": "markdown",
      "source": [
        "# Get Maze Path"
      ],
      "metadata": {
        "id": "oLHn4jfW8b7O"
      }
    },
    {
      "cell_type": "code",
      "source": [
        "# Heavy In-Memory Usage Method\n",
        "def gmp(sr,sc,dr,dc):\n",
        "  if sr == dr and sc == dc:\n",
        "    return [\"\"]\n",
        "  hp = []\n",
        "  vp = []\n",
        "  if sc < dc:\n",
        "    hp = gmp(sr,sc+1,dr,dc)\n",
        "  if sr < dr:\n",
        "    vp = gmp(sr+1,sc,dr,dc)\n",
        "  ls = []\n",
        "  for h in hp:\n",
        "    ls.append('h'+ h)\n",
        "  for v in vp:\n",
        "    ls.append('v'+ v)\n",
        "  return ls\n",
        "gmp(1,1,3,3)\n",
        "\n",
        "# Low In-Memory Usage Method\n",
        "def gmp2(sr,sc,dr,dc,ans):\n",
        "  if sc > dc or sr > dr:\n",
        "    return \n",
        "  if sr == dr and sc == dc:\n",
        "    print(ans)\n",
        "    return \n",
        "  gmp2(sr,sc+1,dr,dc,ans + 'h')\n",
        "  gmp2(sr+1,sc,dr,dc,ans + 'v')\n",
        "gmp2(1,1,3,3,\"\")"
      ],
      "metadata": {
        "colab": {
          "base_uri": "https://localhost:8080/"
        },
        "id": "-vTYeYQt6jnr",
        "outputId": "10eb8880-e1a6-4f22-d88b-bf0654f410af"
      },
      "execution_count": 26,
      "outputs": [
        {
          "output_type": "stream",
          "name": "stdout",
          "text": [
            "hhvv\n",
            "hvhv\n",
            "hvvh\n",
            "vhhv\n",
            "vhvh\n",
            "vvhh\n"
          ]
        }
      ]
    },
    {
      "cell_type": "markdown",
      "source": [
        "# Get Maze Path with jumps"
      ],
      "metadata": {
        "id": "Y9R9om_XmMN2"
      }
    },
    {
      "cell_type": "code",
      "source": [
        ""
      ],
      "metadata": {
        "colab": {
          "base_uri": "https://localhost:8080/"
        },
        "id": "fre61Im19o46",
        "outputId": "c1468d56-d432-4dab-b303-f2282f4ca068"
      },
      "execution_count": 29,
      "outputs": [
        {
          "output_type": "stream",
          "name": "stdout",
          "text": [
            "1\n"
          ]
        }
      ]
    },
    {
      "cell_type": "code",
      "source": [
        "# Heavy In-Memory Usage Method\n",
        "def gmpj(sr,sc,dr,dc):\n",
        "  if sr == dr and sc == dc:\n",
        "    return [\"\"]\n",
        "  ls = []\n",
        "  for i in range(1,(dc-sc)+1):\n",
        "    hpaths = gmpj(sr,sc+i,dr,dc)\n",
        "    for hp in hpaths:\n",
        "      ls.append('h'+str(i)+hp) # horizontal\n",
        "  for k in range(1,(dr-sr)+1):\n",
        "    vpaths = gmpj(sr+k,sc,dr,dc)\n",
        "    for vp in vpaths:\n",
        "      ls.append('v'+str(k)+vp) # vertical \n",
        "  return ls\n",
        "\n",
        "gmpj(1,1,3,3)\n",
        "\n",
        "# Low In-Memory Usage Method\n",
        "def gmpj2(sr,sc,dr,dc,ans):\n",
        "  if sr > dr or sc > dc:\n",
        "    return \n",
        "  if sr == dr and sc == dc:\n",
        "    print(ans)\n",
        "    return \n",
        "  hmove = dc - sc\n",
        "  vmove = dr - sc\n",
        "  d = 1\n",
        "  for h in range(1,hmove + 1):\n",
        "    gmpj2(sr,sc+1,dr,dc,ans+'h'+str(h))\n",
        "  for v in range(1,vmove +1):\n",
        "    gmpj2(sr+1,sc,dr,dc,ans+'v'+str(v))\n",
        "  while(d <= hmove and d <= vmove):\n",
        "    gmpj2(sr+1,sc+1,dr,dc,ans+'d'+str(d))\n",
        "    d +=1\n",
        "gmpj2(1,1,3,3,\"\")\n",
        "\n"
      ],
      "metadata": {
        "id": "xBMqx85r-O2V",
        "colab": {
          "base_uri": "https://localhost:8080/"
        },
        "outputId": "8546b14a-3798-4f48-9b0b-1eccc6432efb"
      },
      "execution_count": 30,
      "outputs": [
        {
          "output_type": "stream",
          "name": "stdout",
          "text": [
            "h1v1v1h1\n",
            "h1v1d1\n",
            "h2v1v1h1\n",
            "h2v1d1\n",
            "v1h1v1h1\n",
            "v1h1d1\n",
            "v1h2v1h1\n",
            "v1h2d1\n",
            "v1v1h1h1\n",
            "v1v1h2h1\n",
            "v1v2h1h1\n",
            "v1v2h2h1\n",
            "v1d1h1\n",
            "v1d2h1\n",
            "v2h1v1h1\n",
            "v2h1d1\n",
            "v2h2v1h1\n",
            "v2h2d1\n",
            "v2v1h1h1\n",
            "v2v1h2h1\n",
            "v2v2h1h1\n",
            "v2v2h2h1\n",
            "v2d1h1\n",
            "v2d2h1\n",
            "d1v1h1\n",
            "d1d1\n",
            "d2v1h1\n",
            "d2d1\n"
          ]
        }
      ]
    },
    {
      "cell_type": "markdown",
      "source": [
        ""
      ],
      "metadata": {
        "id": "ioGm3d6CtIBA"
      }
    },
    {
      "cell_type": "code",
      "source": [
        ""
      ],
      "metadata": {
        "id": "RVQnaTQpo-EI"
      },
      "execution_count": null,
      "outputs": []
    }
  ]
}